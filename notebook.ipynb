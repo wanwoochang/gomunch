{
 "cells": [
  {
   "cell_type": "code",
   "execution_count": null,
   "metadata": {},
   "outputs": [],
   "source": [
    "import time, os, json, re, requests\n",
    "import datetime as dt\n",
    "\n",
    "import getnoms_utils as nom\n",
    "\n",
    "import numpy as np\n",
    "import pandas as pd\n",
    "\n",
    "from ipywidgets import HTML, embed\n",
    "import ipyleaflet as ipyl"
   ]
  },
  {
   "cell_type": "code",
   "execution_count": null,
   "metadata": {},
   "outputs": [],
   "source": [
    "pd.set_option(\"display.max_columns\", None)"
   ]
  },
  {
   "cell_type": "code",
   "execution_count": null,
   "metadata": {},
   "outputs": [],
   "source": [
    "!jupyter nbextension enable --py --sys-prefix ipyleaflet"
   ]
  },
  {
   "cell_type": "code",
   "execution_count": null,
   "metadata": {},
   "outputs": [],
   "source": [
    "num_type = [\"int64\", \"float64\"]"
   ]
  },
  {
   "cell_type": "code",
   "execution_count": null,
   "metadata": {},
   "outputs": [],
   "source": [
    "curr_path = os.getcwd()\n",
    "creds_path = r\"D:\\personal\\creds\"\n",
    "\n",
    "with open(os.path.join(creds_path, \"gmaps\", \"apikey.json\")) as f:\n",
    "    gmaps_apikey = json.load(f)\n",
    "    f.close()\n",
    "\n",
    "with open(os.path.join(creds_path, \"yelp\", \"apikey.json\")) as f:\n",
    "    yelp_apikey = json.load(f)\n",
    "    f.close()\n",
    "    \n",
    "with open(os.path.join(creds_path, \"ipstack\", \"apikey.json\")) as f:\n",
    "    ipstack_apikey = json.load(f)\n",
    "    f.close()"
   ]
  },
  {
   "cell_type": "code",
   "execution_count": null,
   "metadata": {},
   "outputs": [],
   "source": [
    "my_address = \"\"\n",
    "\n",
    "lat, lng, coords = nom.get_origin(ipstack_key=ipstack_apikey[\"key\"], \n",
    "                                  gmaps_key=gmaps_apikey[\"key\"],\n",
    "                                  address=my_address)"
   ]
  },
  {
   "cell_type": "code",
   "execution_count": null,
   "metadata": {},
   "outputs": [],
   "source": [
    "search_query = \"ramen\"\n",
    "\n",
    "search_google = nom.GooglePlaceSearch(gmaps_key=gmaps_apikey[\"key\"],\n",
    "                                      query=search_query,\n",
    "                                      radius=7,\n",
    "                                      origin_coords=coords,\n",
    "                                      unit=\"miles\")                \n",
    "\n",
    "dict_gquery = search_google.google_searchquery()"
   ]
  },
  {
   "cell_type": "code",
   "execution_count": null,
   "metadata": {},
   "outputs": [],
   "source": [
    "gbi = nom.GoogleBusinessInfo(gmaps_key=gmaps_apikey[\"key\"],\n",
    "                             place_ids=dict_gquery[\"place_id\"],\n",
    "                             origin_coords=coords)\n",
    "\n",
    "dict_getinfo = gbi.google_businfo(return_hours=False)"
   ]
  },
  {
   "cell_type": "code",
   "execution_count": null,
   "metadata": {},
   "outputs": [],
   "source": [
    "yelp = nom.YelpMatch(yelp_key=yelp_apikey[\"key\"])"
   ]
  },
  {
   "cell_type": "code",
   "execution_count": null,
   "metadata": {},
   "outputs": [],
   "source": [
    "match_list = yelp.google_yelp_match(dict_gquery, dict_getinfo, \"US\")"
   ]
  },
  {
   "cell_type": "code",
   "execution_count": null,
   "metadata": {},
   "outputs": [],
   "source": [
    "dict_yquery = yelp.yelp_searchquery(match_list)"
   ]
  },
  {
   "cell_type": "code",
   "execution_count": null,
   "metadata": {},
   "outputs": [],
   "source": [
    "yelp_sent = yelp.yelp_sentiment(match_list)"
   ]
  },
  {
   "cell_type": "code",
   "execution_count": null,
   "metadata": {},
   "outputs": [],
   "source": [
    "df_gquery = pd.DataFrame(dict_gquery)\n",
    "df_getinfo = pd.DataFrame(dict_getinfo)\n",
    "df_yquery = pd.DataFrame(dict_yquery)\n",
    "df_yelpsent = pd.DataFrame(yelp_sent)"
   ]
  },
  {
   "cell_type": "code",
   "execution_count": null,
   "metadata": {},
   "outputs": [],
   "source": [
    "data = pd.merge(left=df_gquery, \n",
    "                right=df_getinfo, \n",
    "                on=\"place_id\", \n",
    "                how=\"left\"\n",
    "               ).merge(right=df_yquery, \n",
    "                       on=\"place_id\", \n",
    "                       how=\"left\"\n",
    "                      ).merge(right=df_yelpsent, \n",
    "                              on=[\"place_id\", \"yelp_id\"], \n",
    "                              how=\"left\"\n",
    "                             )"
   ]
  },
  {
   "cell_type": "code",
   "execution_count": null,
   "metadata": {},
   "outputs": [],
   "source": [
    "data.select_dtypes(num_type).isnull().any()[data.isnull().any()==True].index"
   ]
  },
  {
   "cell_type": "code",
   "execution_count": null,
   "metadata": {},
   "outputs": [],
   "source": [
    "len(data)"
   ]
  },
  {
   "cell_type": "code",
   "execution_count": null,
   "metadata": {},
   "outputs": [],
   "source": [
    "data.head()"
   ]
  },
  {
   "cell_type": "code",
   "execution_count": null,
   "metadata": {},
   "outputs": [],
   "source": [
    "correlations = data.drop(labels=[\"lat\", \"lng\", \"trip_time\"], axis=1).corr().stack().reset_index(drop=False)\n",
    "correlations.columns = [\"feat1\", \"feat2\", \"corr\"]\n",
    "correlations.drop(labels=correlations[correlations[\"corr\"]==1].index, axis=0, inplace=True)"
   ]
  },
  {
   "cell_type": "code",
   "execution_count": null,
   "metadata": {},
   "outputs": [],
   "source": [
    "correlations.sort_values(\"corr\", ascending=False)"
   ]
  },
  {
   "cell_type": "code",
   "execution_count": null,
   "metadata": {},
   "outputs": [],
   "source": [
    "from sklearn.preprocessing import StandardScaler, PowerTransformer\n",
    "from sklearn.impute import SimpleImputer\n",
    "from sklearn.decomposition import PCA\n",
    "import scipy.cluster.hierarchy as sch\n",
    "import matplotlib.pyplot as plt\n",
    "import seaborn as sns"
   ]
  },
  {
   "cell_type": "code",
   "execution_count": null,
   "metadata": {},
   "outputs": [],
   "source": [
    "simpimputer_freq = SimpleImputer(missing_values=np.nan, strategy=\"most_frequent\")\n",
    "simpimputer_median = SimpleImputer(missing_values=np.nan, strategy=\"median\")"
   ]
  },
  {
   "cell_type": "code",
   "execution_count": null,
   "metadata": {},
   "outputs": [],
   "source": [
    "for price_level in [\"goog_price_level\", \"yelp_price_level\"]:\n",
    "    data[price_level] = simpimputer_freq.fit_transform(data[price_level].values.reshape(-1, 1))"
   ]
  },
  {
   "cell_type": "code",
   "execution_count": null,
   "metadata": {},
   "outputs": [],
   "source": [
    "data.dropna(axis=0, how=\"any\", subset=[\"yelp_sent_comp\"], inplace=True)"
   ]
  },
  {
   "cell_type": "code",
   "execution_count": null,
   "metadata": {},
   "outputs": [],
   "source": [
    "data.select_dtypes(num_type).isnull().any()[data.isnull().any()==True].index"
   ]
  },
  {
   "cell_type": "code",
   "execution_count": null,
   "metadata": {},
   "outputs": [],
   "source": [
    "features = [\"distance\", \"goog_rating\", \"yelp_rating\", \"goog_price_level\", \"yelp_price_level\", \"goog_sent_comp\", \"yelp_sent_comp\"]"
   ]
  },
  {
   "cell_type": "code",
   "execution_count": null,
   "metadata": {},
   "outputs": [],
   "source": [
    "\"\"\"\n",
    "Yeo-Johnson method is used as vaderSentiment composite scoring can range between -1 to 1.\n",
    "All other features extracted from the APIs are strictly positive, however.\n",
    "\"\"\"\n",
    "pt = PowerTransformer(method=\"yeo-johnson\")"
   ]
  },
  {
   "cell_type": "code",
   "execution_count": null,
   "metadata": {},
   "outputs": [],
   "source": [
    "data_ptfitted = pd.DataFrame(pt.fit_transform(X=data[features]), columns=features)"
   ]
  },
  {
   "cell_type": "code",
   "execution_count": null,
   "metadata": {},
   "outputs": [],
   "source": [
    "pca_rating, pca_price, pca_sent = PCA(n_components=1), PCA(n_components=1), PCA(n_components=1)"
   ]
  },
  {
   "cell_type": "code",
   "execution_count": null,
   "metadata": {},
   "outputs": [],
   "source": [
    "data_ptfitted[\"rating_comp\"] = pca_rating.fit_transform(data_ptfitted[[\"goog_rating\", \"yelp_rating\"]])\n",
    "data_ptfitted[\"sent_comp\"] = pca_sent.fit_transform(data_ptfitted[[\"goog_sent_comp\", \"yelp_sent_comp\"]])\n",
    "data_ptfitted[\"price_comp\"] = pca_price.fit_transform(data_ptfitted[[\"goog_price_level\", \"yelp_price_level\"]])"
   ]
  },
  {
   "cell_type": "code",
   "execution_count": null,
   "metadata": {},
   "outputs": [],
   "source": [
    "print(f\"Scaled composite rating explained variance: {round(pca_rating.explained_variance_ratio_[0], 3)}\")\n",
    "print(f\"Scaled composite rating noise covariance: {round(pca_rating.noise_variance_, 3)}\")\n",
    "pca_rating.get_precision()"
   ]
  },
  {
   "cell_type": "code",
   "execution_count": null,
   "metadata": {},
   "outputs": [],
   "source": [
    "print(f\"Scaled composite sentiment score explained variance: {round(pca_sent.explained_variance_ratio_[0], 3)}\")\n",
    "print(f\"Scaled composite sentiment score noise covariance: {round(pca_sent.noise_variance_, 3)}\")\n",
    "pca_sent.get_precision()"
   ]
  },
  {
   "cell_type": "code",
   "execution_count": null,
   "metadata": {},
   "outputs": [],
   "source": [
    "print(f\"Scaled composite price level explained variance: {round(pca_price.explained_variance_ratio_[0], 3)}\")\n",
    "print(f\"Scaled composite price level noise covariance: {round(pca_price.noise_variance_, 3)}\")\n",
    "pca_price.get_precision()"
   ]
  },
  {
   "cell_type": "code",
   "execution_count": null,
   "metadata": {},
   "outputs": [],
   "source": [
    "data_ptfitted.head()"
   ]
  },
  {
   "cell_type": "code",
   "execution_count": null,
   "metadata": {},
   "outputs": [],
   "source": [
    "features_for_model = [\"distance\", \"rating_comp\", \"sent_comp\", \"price_comp\"]"
   ]
  },
  {
   "cell_type": "code",
   "execution_count": null,
   "metadata": {},
   "outputs": [],
   "source": [
    "link = sch.linkage(data_ptfitted[features_for_model], \n",
    "                   method=\"ward\", \n",
    "                   metric=\"euclidean\")"
   ]
  },
  {
   "cell_type": "code",
   "execution_count": null,
   "metadata": {},
   "outputs": [],
   "source": [
    "plt.figure(figsize=(16,9))\n",
    "dendo = sch.dendrogram(link)\n",
    "plt.grid(True)"
   ]
  },
  {
   "cell_type": "code",
   "execution_count": null,
   "metadata": {},
   "outputs": [],
   "source": [
    "from sklearn.cluster import AgglomerativeClustering"
   ]
  },
  {
   "cell_type": "code",
   "execution_count": null,
   "metadata": {},
   "outputs": [],
   "source": [
    "model = AgglomerativeClustering(n_clusters=link.shape[1], \n",
    "                                affinity=\"euclidean\", \n",
    "                                linkage=\"ward\")"
   ]
  },
  {
   "cell_type": "code",
   "execution_count": null,
   "metadata": {},
   "outputs": [],
   "source": [
    "data[\"pred\"] = model.fit_predict(data_ptfitted[features_for_model])"
   ]
  },
  {
   "cell_type": "code",
   "execution_count": null,
   "metadata": {},
   "outputs": [],
   "source": [
    "data.hist(column=\"pred\")"
   ]
  },
  {
   "cell_type": "code",
   "execution_count": null,
   "metadata": {},
   "outputs": [],
   "source": [
    "info_cols = [\"name_x\", \"address\", \"city\", \"distance\", \"goog_rating\", \"yelp_rating\", \"goog_price_level\", \"yelp_price_level\", \"goog_sent_comp\", \"yelp_sent_comp\"]"
   ]
  },
  {
   "cell_type": "code",
   "execution_count": null,
   "metadata": {},
   "outputs": [],
   "source": [
    "data[data[\"pred\"]==0][info_cols]"
   ]
  },
  {
   "cell_type": "code",
   "execution_count": null,
   "metadata": {},
   "outputs": [],
   "source": [
    "data[data[\"pred\"]==1][info_cols]"
   ]
  },
  {
   "cell_type": "code",
   "execution_count": null,
   "metadata": {},
   "outputs": [],
   "source": [
    "data[data[\"pred\"]==2][info_cols]"
   ]
  },
  {
   "cell_type": "code",
   "execution_count": null,
   "metadata": {},
   "outputs": [],
   "source": [
    "data[data[\"pred\"]==3][[\"name_x\", \"distance\", \"goog_rating\", \"yelp_rating\", \"goog_price_level\", \"yelp_price_level\", \"goog_sent_comp\", \"yelp_sent_comp\"]]"
   ]
  },
  {
   "cell_type": "code",
   "execution_count": null,
   "metadata": {},
   "outputs": [],
   "source": [
    "data.reset_index(drop=True, inplace=True)"
   ]
  },
  {
   "cell_type": "code",
   "execution_count": null,
   "metadata": {},
   "outputs": [],
   "source": [
    "sent_bounds = [-0.25, 0.8]\n",
    "\n",
    "data.loc[data[data[\"goog_sent_comp\"]>sent_bounds[1]].index, \"goog_peoplesay\"] = \"Yay!\"\n",
    "data.loc[data[data[\"goog_sent_comp\"].between(left=sent_bounds[0], right=sent_bounds[1], inclusive=True)].index, \"goog_peoplesay\"] = \"Meh.\"\n",
    "data.loc[data[data[\"goog_sent_comp\"]<sent_bounds[0]].index, \"goog_peoplesay\"] = \"This place sucks.\"\n",
    "         \n",
    "data.loc[data[data[\"yelp_sent_comp\"]>sent_bounds[1]].index, \"yelp_peoplesay\"] = \"Yay!\"\n",
    "data.loc[data[data[\"yelp_sent_comp\"].between(left=sent_bounds[0], right=sent_bounds[1], inclusive=True)].index, \"yelp_peoplesay\"] = \"Meh.\"\n",
    "data.loc[data[data[\"yelp_sent_comp\"]<sent_bounds[0]].index, \"yelp_peoplesay\"] = \"This place sucks.\""
   ]
  },
  {
   "cell_type": "code",
   "execution_count": null,
   "metadata": {},
   "outputs": [],
   "source": [
    "map_base = ipyl.Map(center=(lat, lng), \n",
    "                    zoom=13,\n",
    "                    close_popup_on_click=False\n",
    "                   )\n",
    "\n",
    "map_base.add_control(ipyl.FullScreenControl())\n",
    "\n",
    "map_origin_marker = ipyl.Marker(location=map_base.center)\n",
    "map_origin_circle = ipyl.CircleMarker()\n",
    "map_origin_circle.location = (lat, lng)\n",
    "map_origin_circle.radius = 10\n",
    "map_origin_circle.color = \"black\"\n",
    "\n",
    "\n",
    "map_origin_message = HTML(value=\"Your location\")\n",
    "popup_origin = ipyl.Popup(location=(lat, lng),\n",
    "                          child=map_origin_message,\n",
    "                          close_button=True\n",
    "                         )\n",
    "\n",
    "map_origin_marker.popup = map_origin_message\n",
    "\n",
    "map_base.add_layer(map_origin_marker)\n",
    "map_base.add_layer(map_origin_circle)\n",
    "map_base.add_layer(popup_origin)\n",
    "\n",
    "map_marker_cmap = {0: \"red\", \n",
    "                   1: \"orange\", \n",
    "                   2: \"yellow\", \n",
    "                   3: \"green\",\n",
    "                   4: \"blue\",\n",
    "                   5: \"purple\"\n",
    "                  }\n",
    "\n",
    "for clust in data[\"pred\"].sort_values().unique():\n",
    "    var_clust_name = \"c\"+str(clust)\n",
    "    globals()[var_clust_name] = ipyl.LayerGroup(name=\"cluster \"+str(clust))\n",
    "    map_base.add_layer(globals()[var_clust_name])\n",
    "\n",
    "for i in range(0, len(data)):\n",
    "    coords = (data[\"lat\"][i], data[\"lng\"][i])\n",
    "    \n",
    "    map_loc_marker = ipyl.Marker(location=coords)\n",
    "    map_loc_circle = ipyl.CircleMarker()\n",
    "    map_loc_circle.location = coords\n",
    "    map_loc_circle.radius = 5\n",
    "    map_loc_circle.color = map_marker_cmap[data[\"pred\"][i]]\n",
    "    \n",
    "    map_marker_message = HTML()\n",
    "    map_marker_message_text = f\"Name: {data['name_x'][i]}<br>\"\\\n",
    "                              f\"Address: {', '.join([data['address'][i], data['city'][i], data['state'][i], data['zip'][i]])}<br>\"\\\n",
    "                              f\"Phone: {data['phone_formatted'][i]}<br>\"\\\n",
    "                              f\"Google rating: {data['goog_rating'][i]}; Yelp rating: {data['yelp_rating'][i]}<br>\"\\\n",
    "                              f\"Google says: {data['goog_peoplesay'][i]}<br>\"\\\n",
    "                              f\"Yelp says: {data['yelp_peoplesay'][i]}<br>\"\\\n",
    "                              f\"Price level: {int(data.loc[i, ['goog_price_level', 'yelp_price_level']].values.max())*'$'}\"\n",
    "                              \n",
    "    map_marker_message.value = map_marker_message_text\n",
    "    map_loc_marker.popup_max_width = 425\n",
    "    map_loc_marker.popup = map_marker_message\n",
    "    \n",
    "    clust_label = data[\"pred\"][i]\n",
    "    globals()[\"c\"+str(clust_label)].add_layer(map_loc_marker)\n",
    "    globals()[\"c\"+str(clust_label)].add_layer(map_loc_circle)\n",
    "\n",
    "map_base.add_control(ipyl.LayersControl())"
   ]
  },
  {
   "cell_type": "code",
   "execution_count": null,
   "metadata": {},
   "outputs": [],
   "source": [
    "display(map_base)"
   ]
  },
  {
   "cell_type": "code",
   "execution_count": null,
   "metadata": {},
   "outputs": [],
   "source": [
    "embed.embed_minimal_html(fp=\"export.html\", views=[map_base], requirejs=True)"
   ]
  },
  {
   "cell_type": "code",
   "execution_count": null,
   "metadata": {},
   "outputs": [],
   "source": [
    "filename = \"_\".join([search_query.replace(\" \", \"_\"), dt.datetime.now().strftime(\"%Y%m%dT%H%M%S\")])"
   ]
  },
  {
   "cell_type": "code",
   "execution_count": null,
   "metadata": {},
   "outputs": [],
   "source": [
    "data.to_csv(filename+\".csv\", index=False)"
   ]
  },
  {
   "cell_type": "code",
   "execution_count": null,
   "metadata": {},
   "outputs": [],
   "source": [
    "data[data[[\"goog_peoplesay\", \"yelp_peoplesay\"]].apply(tuple, axis=1)==(\"Yay!\", \"Yay!\")]"
   ]
  },
  {
   "cell_type": "code",
   "execution_count": null,
   "metadata": {},
   "outputs": [],
   "source": []
  }
 ],
 "metadata": {
  "kernelspec": {
   "display_name": "Python 3",
   "language": "python",
   "name": "python3"
  },
  "language_info": {
   "codemirror_mode": {
    "name": "ipython",
    "version": 3
   },
   "file_extension": ".py",
   "mimetype": "text/x-python",
   "name": "python",
   "nbconvert_exporter": "python",
   "pygments_lexer": "ipython3",
   "version": "3.7.6"
  }
 },
 "nbformat": 4,
 "nbformat_minor": 4
}
